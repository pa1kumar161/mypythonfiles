{
 "cells": [
  {
   "cell_type": "markdown",
   "id": "b4c85d65",
   "metadata": {},
   "source": [
    "# 1) find the sum of the array"
   ]
  },
  {
   "cell_type": "code",
   "execution_count": 9,
   "id": "ec6e0801",
   "metadata": {},
   "outputs": [
    {
     "name": "stdout",
     "output_type": "stream",
     "text": [
      "enter the array elements1,2,3,4,5\n",
      "15\n"
     ]
    }
   ],
   "source": [
    "def addarray(n):\n",
    "    sum=0\n",
    "    for i in a:\n",
    "        sum=sum+int(i)\n",
    "    return sum\n",
    "n=input('enter the array elements')    \n",
    "n=n.split(',')\n",
    "print(addarray(n))"
   ]
  },
  {
   "cell_type": "markdown",
   "id": "479b42c9",
   "metadata": {},
   "source": [
    "# 2) Find the largest element in the array"
   ]
  },
  {
   "cell_type": "code",
   "execution_count": 17,
   "id": "6770d0f3",
   "metadata": {},
   "outputs": [
    {
     "name": "stdout",
     "output_type": "stream",
     "text": [
      "enter the array elements1,2,7,-2,-3,9\n",
      "9\n"
     ]
    }
   ],
   "source": [
    "def largest(n):\n",
    "    largest=0\n",
    "    for i in n:\n",
    "        if i>largest:\n",
    "            largest=i\n",
    "    return largest\n",
    "n=eval(input('enter the array elements'))\n",
    "n=list(n)\n",
    "print(largest(n))"
   ]
  },
  {
   "cell_type": "markdown",
   "id": "c0b0c022",
   "metadata": {},
   "source": [
    "# Rotate the elements of a list"
   ]
  },
  {
   "cell_type": "code",
   "execution_count": 24,
   "id": "b8f7e4f0",
   "metadata": {},
   "outputs": [
    {
     "name": "stdout",
     "output_type": "stream",
     "text": [
      "enter the array elements1,2,3,4,5\n",
      "[5, 1, 2, 3, 4]\n"
     ]
    }
   ],
   "source": [
    "def rotate(n):\n",
    "    x=n[-1]\n",
    "    n.insert(0,x)\n",
    "    n.pop()\n",
    "    return n\n",
    "\n",
    "n=eval(input('enter the array elements'))\n",
    "n=list(n)\n",
    "print(rotate(n))"
   ]
  },
  {
   "cell_type": "code",
   "execution_count": 33,
   "id": "71795f84",
   "metadata": {},
   "outputs": [
    {
     "name": "stdout",
     "output_type": "stream",
     "text": [
      "enter the array elements1,2,3,4,5\n",
      "[5, 1, 2, 3, 4]\n"
     ]
    }
   ],
   "source": [
    "def rotate(n):\n",
    "    x=[]\n",
    "    x.append(n[-1])\n",
    "    for i in range(len(n)-1):\n",
    "        x.append(n[i])\n",
    "    return x\n",
    "        \n",
    "n=eval(input('enter the array elements'))\n",
    "n=list(n)\n",
    "print(rotate(n))"
   ]
  },
  {
   "cell_type": "markdown",
   "id": "c7e43e2d",
   "metadata": {},
   "source": [
    "# array reversal"
   ]
  },
  {
   "cell_type": "code",
   "execution_count": 52,
   "id": "4b10b501",
   "metadata": {},
   "outputs": [
    {
     "name": "stdout",
     "output_type": "stream",
     "text": [
      "enter the array elements1,2,3,4,56,7,8\n",
      "enter the number of rotations3\n",
      "[4, 56, 7, 8, 1, 2, 3]\n"
     ]
    }
   ],
   "source": [
    "def reverse(n):\n",
    "    temp=n[0]\n",
    "    for i in range(len(n)-1):\n",
    "        n[i]=n[i+1]\n",
    "    n[len(n)-1]=temp\n",
    "n=eval(input('enter the array elements'))\n",
    "n=list(n)\n",
    "d=int(input('enter the number of rotations'))\n",
    "for i in range(d):\n",
    "    reverse(n)\n",
    "print(n)\n"
   ]
  },
  {
   "cell_type": "markdown",
   "id": "f63af321",
   "metadata": {},
   "source": [
    "# split array into unequal parts and then add the first part inot last"
   ]
  },
  {
   "cell_type": "code",
   "execution_count": 44,
   "id": "22bc6e9a",
   "metadata": {},
   "outputs": [
    {
     "name": "stdout",
     "output_type": "stream",
     "text": [
      "[4, 5, 6, 7, 8, 9, 1, 2, 3]\n"
     ]
    }
   ],
   "source": [
    "a=[1,2,3,4,5,6,7,8,9]\n",
    "x=a[:3]\n",
    "y=a[3:]\n",
    "print(y+x)\n"
   ]
  },
  {
   "cell_type": "markdown",
   "id": "12133d0e",
   "metadata": {},
   "source": [
    "# reminder of array multiplication divided by n"
   ]
  },
  {
   "cell_type": "code",
   "execution_count": 51,
   "id": "8e557c83",
   "metadata": {},
   "outputs": [
    {
     "name": "stdout",
     "output_type": "stream",
     "text": [
      "6\n",
      "213696\n"
     ]
    }
   ],
   "source": [
    "a=[1,2,3,4,53,6,7,4]\n",
    "mul=1\n",
    "n=10\n",
    "for i in a:\n",
    "    mul=mul*i\n",
    "remainder=mul%n\n",
    "print(remainder)\n",
    "print(mul)"
   ]
  },
  {
   "cell_type": "markdown",
   "id": "ca06f941",
   "metadata": {},
   "source": [
    "# if an array is monotic"
   ]
  },
  {
   "cell_type": "code",
   "execution_count": 13,
   "id": "4d8b3cd2",
   "metadata": {},
   "outputs": [
    {
     "name": "stdout",
     "output_type": "stream",
     "text": [
      "yes\n"
     ]
    }
   ],
   "source": [
    "a=[1,3,4,4,5,6]\n",
    "def monotonic(a):\n",
    "    v=0\n",
    "    for i in range(len(a)-1):\n",
    "        if a[i]>a[i+1]:\n",
    "            v=1\n",
    "    return v\n",
    "if monotonic(a)==1:\n",
    "    print('no')\n",
    "else:\n",
    "    print('yes')"
   ]
  },
  {
   "cell_type": "markdown",
   "id": "524f12ab",
   "metadata": {},
   "source": [
    "# flatten a list"
   ]
  },
  {
   "cell_type": "code",
   "execution_count": 12,
   "id": "32fe4faa",
   "metadata": {},
   "outputs": [
    {
     "name": "stdout",
     "output_type": "stream",
     "text": [
      "[1, 2, 3, 6, 8, 9, 9, 9, 6]\n"
     ]
    }
   ],
   "source": [
    "a=[1,'xyz',[2,3,['abc',['sc',6,8,[9,[9,(9),],],],6,]]]\n",
    "w=[]\n",
    "def flatten(a):\n",
    "    for i in a:\n",
    "        if type(i)==int:\n",
    "            w.append(i)\n",
    "        elif type(i)==list or type(i)==tuple:\n",
    "            flatten(i)\n",
    "    return w \n",
    "print(flatten(a))"
   ]
  },
  {
   "cell_type": "code",
   "execution_count": null,
   "id": "a8f3c01d",
   "metadata": {},
   "outputs": [],
   "source": []
  }
 ],
 "metadata": {
  "kernelspec": {
   "display_name": "Python 3 (ipykernel)",
   "language": "python",
   "name": "python3"
  },
  "language_info": {
   "codemirror_mode": {
    "name": "ipython",
    "version": 3
   },
   "file_extension": ".py",
   "mimetype": "text/x-python",
   "name": "python",
   "nbconvert_exporter": "python",
   "pygments_lexer": "ipython3",
   "version": "3.10.9"
  }
 },
 "nbformat": 4,
 "nbformat_minor": 5
}
