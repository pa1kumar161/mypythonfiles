{
 "cells": [
  {
   "cell_type": "code",
   "execution_count": 20,
   "id": "5032c36a",
   "metadata": {},
   "outputs": [
    {
     "name": "stdout",
     "output_type": "stream",
     "text": [
      "[7, 2, 3, 4, 5, 6, 1]\n"
     ]
    }
   ],
   "source": [
    "a=[1,2,3,4,5,6,7]\n",
    "def swaplast(a):\n",
    "    temp=a[-1]\n",
    "    a[-1]=a[0]\n",
    "    a[0]=temp\n",
    "    return a\n",
    "print(swaplast(a))"
   ]
  },
  {
   "cell_type": "code",
   "execution_count": 22,
   "id": "ae803707",
   "metadata": {},
   "outputs": [
    {
     "name": "stdout",
     "output_type": "stream",
     "text": [
      "enter the first no.2\n",
      "enter the second no.6\n",
      "[1, 6, 3, 4, 5, 2, 7]\n"
     ]
    }
   ],
   "source": [
    "a=[1,2,3,4,5,6,7]\n",
    "def swaplast(a):\n",
    "    temp=a[pos1-1]\n",
    "    a[pos1-1]=a[pos2-1]\n",
    "    a[pos2-1]=temp\n",
    "    return a\n",
    "pos1=int(input('enter the first no.'))\n",
    "pos2=int(input('enter the second no.'))\n",
    "print(swaplast(a))\n"
   ]
  },
  {
   "cell_type": "code",
   "execution_count": 23,
   "id": "8a6e033f",
   "metadata": {},
   "outputs": [
    {
     "name": "stdout",
     "output_type": "stream",
     "text": [
      "8\n"
     ]
    }
   ],
   "source": [
    "a=[1,2,3,4,5,6,7,8]\n",
    "len=0\n",
    "for i in a:\n",
    "    len=len+1\n",
    "print(len)\n",
    "    "
   ]
  },
  {
   "cell_type": "code",
   "execution_count": 37,
   "id": "117a638c",
   "metadata": {},
   "outputs": [
    {
     "data": {
      "text/plain": [
       "[]"
      ]
     },
     "execution_count": 37,
     "metadata": {},
     "output_type": "execute_result"
    }
   ],
   "source": [
    "a=[]\n",
    "b=[1,2,3]\n",
    "b*0"
   ]
  },
  {
   "cell_type": "code",
   "execution_count": null,
   "id": "910afaf8",
   "metadata": {},
   "outputs": [],
   "source": []
  },
  {
   "cell_type": "code",
   "execution_count": null,
   "id": "b1e70bf5",
   "metadata": {},
   "outputs": [],
   "source": []
  }
 ],
 "metadata": {
  "kernelspec": {
   "display_name": "Python 3 (ipykernel)",
   "language": "python",
   "name": "python3"
  },
  "language_info": {
   "codemirror_mode": {
    "name": "ipython",
    "version": 3
   },
   "file_extension": ".py",
   "mimetype": "text/x-python",
   "name": "python",
   "nbconvert_exporter": "python",
   "pygments_lexer": "ipython3",
   "version": "3.10.9"
  }
 },
 "nbformat": 4,
 "nbformat_minor": 5
}
