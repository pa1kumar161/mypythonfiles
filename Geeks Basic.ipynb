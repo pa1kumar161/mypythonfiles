{
 "cells": [
  {
   "cell_type": "markdown",
   "id": "374b65be",
   "metadata": {},
   "source": [
    "# Factorial "
   ]
  },
  {
   "cell_type": "code",
   "execution_count": 3,
   "id": "15772638",
   "metadata": {},
   "outputs": [
    {
     "name": "stdout",
     "output_type": "stream",
     "text": [
      "enter a number1\n",
      "factorial of 1 is: 1\n"
     ]
    }
   ],
   "source": [
    "# normal\n",
    "def factorial(n):\n",
    "    fact=1\n",
    "    if n==1:\n",
    "        return n\n",
    "    else:\n",
    "        for i in range(n,1,-1):\n",
    "            fact=fact*i\n",
    "    return fact\n",
    "z=int(input('enter a number'))\n",
    "print('factorial of',z,'is:',factorial(z))"
   ]
  },
  {
   "cell_type": "code",
   "execution_count": 6,
   "id": "d3d4b9d3",
   "metadata": {},
   "outputs": [
    {
     "name": "stdout",
     "output_type": "stream",
     "text": [
      "55\n"
     ]
    }
   ],
   "source": [
    "# recursive\n",
    "def factorial(n):\n",
    "    if n==1:\n",
    "        return n\n",
    "    else:\n",
    "        return n+factorial(n-1)\n",
    "n=10\n",
    "print(factorial(n))        "
   ]
  },
  {
   "cell_type": "markdown",
   "id": "c4604714",
   "metadata": {},
   "source": [
    "# simple inerest"
   ]
  },
  {
   "cell_type": "code",
   "execution_count": 1,
   "id": "20a57278",
   "metadata": {},
   "outputs": [
    {
     "name": "stdout",
     "output_type": "stream",
     "text": [
      "3.84\n"
     ]
    }
   ],
   "source": [
    "def SI(p,t,r):\n",
    "    return p*t*r/100\n",
    "p,t,r=8,6,8\n",
    "print(SI(p,t,r))"
   ]
  },
  {
   "cell_type": "markdown",
   "id": "70e33615",
   "metadata": {},
   "source": [
    "# amstrong number"
   ]
  },
  {
   "cell_type": "code",
   "execution_count": 14,
   "id": "2791e649",
   "metadata": {},
   "outputs": [
    {
     "name": "stdout",
     "output_type": "stream",
     "text": [
      "yes\n"
     ]
    }
   ],
   "source": [
    "n=153\n",
    "sum=0\n",
    "for i in str(n):\n",
    "    sum+=pow(int(i),len(str(n)))\n",
    "if sum==n:\n",
    "    print('yes')\n",
    "else:\n",
    "    print('No')\n",
    "    \n",
    "    "
   ]
  },
  {
   "cell_type": "markdown",
   "id": "461740a2",
   "metadata": {},
   "source": [
    "# prime number "
   ]
  },
  {
   "cell_type": "code",
   "execution_count": 32,
   "id": "8088d57b",
   "metadata": {},
   "outputs": [
    {
     "name": "stdout",
     "output_type": "stream",
     "text": [
      "[18]\n"
     ]
    }
   ],
   "source": [
    "def prime(n):\n",
    "    for i in range(2,((n)//2)+1):\n",
    "        for j in range(n):\n",
    "            if i*j==n:\n",
    "                break\n",
    "        else:\n",
    "            return n\n",
    "l=[]\n",
    "for i in range(10,20):\n",
    "    result=prime(i)\n",
    "    if result==n:\n",
    "        l.append(result)\n",
    "print(l)"
   ]
  },
  {
   "cell_type": "code",
   "execution_count": null,
   "id": "25bc950d",
   "metadata": {},
   "outputs": [],
   "source": []
  }
 ],
 "metadata": {
  "kernelspec": {
   "display_name": "Python 3 (ipykernel)",
   "language": "python",
   "name": "python3"
  },
  "language_info": {
   "codemirror_mode": {
    "name": "ipython",
    "version": 3
   },
   "file_extension": ".py",
   "mimetype": "text/x-python",
   "name": "python",
   "nbconvert_exporter": "python",
   "pygments_lexer": "ipython3",
   "version": "3.10.9"
  }
 },
 "nbformat": 4,
 "nbformat_minor": 5
}
